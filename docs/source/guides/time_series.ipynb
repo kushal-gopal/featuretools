{
 "cells": [
  {
   "cell_type": "code",
   "execution_count": null,
   "id": "17f894b5",
   "metadata": {},
   "outputs": [],
   "source": [
    "import featuretools as ft\n",
    "from featuretools.primitives import RollingMean, NumericLag, RollingMin\n",
    "from featuretools.demo.weather import load_weather"
   ]
  },
  {
   "cell_type": "markdown",
   "id": "a8104f18",
   "metadata": {},
   "source": [
    "# Feature Engineering for Time Series Problems"
   ]
  },
  {
   "cell_type": "raw",
   "id": "9cd9cb82",
   "metadata": {
    "raw_mimetype": "text/restructuredtext"
   },
   "source": [
    ".. note::\n",
    "        This guide focuses on feature engineering for single-table time series problems; it does not cover how to handle temporal multi-table data for other machine learning problem types. A more general guide on handling time in Featuretools can be found [here]()."
   ]
  },
  {
   "cell_type": "markdown",
   "id": "0cf3cebc",
   "metadata": {},
   "source": [
    "Time series forecasting consists of predicting future values of a target using earlier observations. In datasets that are used in time series problems, there is an inherent temporal ordering to the data (determined by a time index), and  the sequential target values we're predicting are highly dependent on one another. Feature engineering for time series problems exploits the fact that more recent observations are more predictive than more distant ones.\n",
    "\n",
    "This guide will explore how to use Featuretools for automating feature engineering for univariate time series problems, or problems in which only the time index and target column are included.\n",
    " \n",
    "We'll be working with a temperature demo dataset of minimum daily temperatures that includes two columns: `Temp` and `Date`. `Date` is our time index, and `Temp` is our target column. The engineered features will be built from our target, `Temp`, and will be used to help us predict future temperatures. "
   ]
  },
  {
   "cell_type": "code",
   "execution_count": null,
   "id": "862e46da",
   "metadata": {},
   "outputs": [],
   "source": [
    "es = load_weather()\n",
    "\n",
    "es['temperatures'].head(10)"
   ]
  },
  {
   "attachments": {},
   "cell_type": "markdown",
   "id": "060eb035",
   "metadata": {},
   "source": [
    "Other time-related concepts in Featuretools will not be relevant here, as this is single table, and time series problems look backwards into the past of an individual column to understand observations within that column, so the concepts of cutoff times and last time indices do not exist in the same way. A cutoff time assumes that non-instantaneous values start at their time index and extend forwards in time. References to that value in child dataframes determine how far forwards that value extends until the last time index is reached.\n",
    "\n",
    "<p style=\"margin:30px\">\n",
    "    <img style=\"display:inline; margin-right:50px\" width=100% src=\"../_static/images/multi_table_FE_timeline.png\" alt=\"Featuretools\" />\n",
    "</p>\n",
    "\n",
    "Therefore, instead of using an target value's `time_index` and `cutoff_time` to determine the earliest and latest dates for the feature engineering window, we will define a window that precedes the instance using new concepts of a `gap` and `window_length`.\n",
    "\n",
    "\n",
    "## Gap and Window Length\n",
    "\n",
    "Note that we will be using integers when definint gap an window length. This implies that our data occurs at evenly spaced intervals--in this case daily--so a number `n` corresponds to `n` days. Support for unevenly spaced intervals is ongoing.\n",
    "\n",
    "If we are at a point in time `t`, we have access to information from times less than `t` (past instances), and we do not have information from times greater than `t` (future instances). Our limitations in feature engineering, then, will come from when exactly before `t` we have access to the data. \n",
    "\n",
    "Consider an example where we're recording data that takes a week to ingest; the earliest data we have access to is from seven days ago, or `t - 7`. We'll call this our `gap`. A `gap` of 0 would include the instance itself, which we must be careful to avoid in time series problems, as this exposes our target.\n",
    "\n",
    "We also need to determine how far back in time before `t - 7` we can go. Too far back, and we may lose the potency of our recent observations, but too recent, and we may not capture the full spectrum of behaviors displayed by the data. In this example, let's say that we only want to look at 5 days worth of data at a time. We'll call this our `window_length`. \n",
    "\n",
    "<p style=\"margin:30px\">\n",
    "    <img style=\"display:inline; margin-right:50px\" width=100% src=\"../_static/images/time_series_FE_timeline.png\" alt=\"Featuretools\" />\n",
    "</p>"
   ]
  },
  {
   "cell_type": "code",
   "execution_count": null,
   "id": "a90799f1",
   "metadata": {},
   "outputs": [],
   "source": [
    "gap = 7\n",
    "window_length = 5"
   ]
  },
  {
   "cell_type": "markdown",
   "id": "460b4c49",
   "metadata": {},
   "source": [
    "With these two parameters (`gap` and `window_length`) set, we have defined our feature engineering window. Now, we can move onto defining our feature primitives.\n",
    "\n",
    "## Time Series Primitives\n",
    "\n",
    "There are three types of primitives we'll focus on for time series problems. One of them will extract features from the time index, and the other two types will extract features from our target column. \n",
    "\n",
    "### Datetime Transform Primitives\n",
    "\n",
    "We need a way of implicating time in our time series features. Yes, using recent temperatures is incredibly predictive in determining future temperatures, but there is also a whole host of historical data suggesting that the month of the year is a pretty good indicator for the temperature outside. However, if we look at the data, we'll see that, though the day changes, the observations are always taken at the same hour, so the `Hour` primitive will not likely be useful. Of course, in a dataset that is measured at an hourly frequency or one more granular, `Hour` may be incrediby predictive. "
   ]
  },
  {
   "cell_type": "code",
   "execution_count": null,
   "id": "65246092",
   "metadata": {},
   "outputs": [],
   "source": [
    "datetime_primitives = ['Day', \"Year\", \"Weekday\", \"Month\"]"
   ]
  },
  {
   "cell_type": "markdown",
   "id": "95d8c86a",
   "metadata": {},
   "source": [
    "### Delaying Primitives\n",
    "\n",
    "The simplest thing we can do with our target column is to build features that are delayed (or lagging) versions of the target column. We'll make one feature per observation in our feature engineering windows, so we'll range over time from `t - gap - window_length` to `t - gap`. \n",
    "\n",
    "For this purpose, we can use our `NumericLag` primitive and create one primitive for each instance in our window. "
   ]
  },
  {
   "cell_type": "code",
   "execution_count": null,
   "id": "b9e1fa8f",
   "metadata": {},
   "outputs": [],
   "source": [
    "delaying_primitives = [NumericLag(periods=i + gap) for i in range(window_length)]"
   ]
  },
  {
   "cell_type": "markdown",
   "id": "03cd4474",
   "metadata": {},
   "source": [
    "### Rolling Transform Primitives\n",
    "\n",
    "Since we have access to the entire feature engineering window, we can aggregate over that window. Featuretools has several rolling primitives with which we can achieve this. Here, we'll use the `RollingMean` primitives `RollingMin`, setting the `gap` and `window_length` accordingly. Here, the gap is incredibly important, because when the gap is zero, it means the current observation's taret value is present in the window, which exposes our target.\n",
    "\n",
    "This concern also exists for other primitives that reference earlier values in the dataframe. Because of this, when using primitives for time series feature engineering, one must be incredibly careful to not use primitives on the target column that incorporate the current observation when calculating a feature value."
   ]
  },
  {
   "cell_type": "code",
   "execution_count": null,
   "id": "ed6cc722",
   "metadata": {},
   "outputs": [],
   "source": [
    "rolling_mean_primitive = RollingMean(window_length=window_length, \n",
    "                                     gap=gap,\n",
    "                                     min_periods=window_length)\n",
    "\n",
    "rolling_min_primitive = RollingMin(window_length=window_length, \n",
    "                                     gap=gap,\n",
    "                                     min_periods=window_length)"
   ]
  },
  {
   "cell_type": "markdown",
   "id": "1eb2a6e1",
   "metadata": {},
   "source": [
    "Below is an example of how we can extract many features using the same feature engineering window without exposing our target value.\n",
    "\n",
    "<p style=\"margin:30px\">\n",
    "    <img style=\"display:inline; margin-right:50px\" width=100% src=\"../_static/images/window_calculations.png\" alt=\"Featuretools\" />\n",
    "</p>\n",
    "\n",
    "## Run DFS\n",
    "\n",
    "Now that we've definied our time series primitives, we can pass them into DFS and get our feature matrix! "
   ]
  },
  {
   "cell_type": "code",
   "execution_count": null,
   "id": "42f52b73",
   "metadata": {},
   "outputs": [],
   "source": [
    "fm, f = ft.dfs(entityset=es,\n",
    "               target_dataframe_name='temperatures',\n",
    "               trans_primitives = (datetime_primitives + \n",
    "                                  delaying_primitives + \n",
    "                                  [rolling_mean_primitive, rolling_min_primitive]),\n",
    "               max_depth=1\n",
    "              )\n",
    "\n",
    "f"
   ]
  },
  {
   "cell_type": "code",
   "execution_count": null,
   "id": "87a6752c",
   "metadata": {
    "scrolled": false
   },
   "outputs": [],
   "source": [
    "fm.iloc[:,[0,2, 6, 7, 8, 9]].head(15)"
   ]
  }
 ],
 "metadata": {
  "celltoolbar": "Raw Cell Format",
  "kernelspec": {
   "display_name": "Python 3",
   "language": "python",
   "name": "python3"
  },
  "language_info": {
   "codemirror_mode": {
    "name": "ipython",
    "version": 3
   },
   "file_extension": ".py",
   "mimetype": "text/x-python",
   "name": "python",
   "nbconvert_exporter": "python",
   "pygments_lexer": "ipython3",
   "version": "3.8.2"
  }
 },
 "nbformat": 4,
 "nbformat_minor": 5
}
